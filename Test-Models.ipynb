{
 "cells": [
  {
   "cell_type": "markdown",
   "id": "6dad9e41-e48b-4c66-b8c3-d7223f8daed7",
   "metadata": {},
   "source": [
    "# Test Models"
   ]
  },
  {
   "cell_type": "code",
   "execution_count": 2,
   "id": "97ffbd35-af2f-4e9d-a168-142a0f3dcc73",
   "metadata": {},
   "outputs": [
    {
     "name": "stdout",
     "output_type": "stream",
     "text": [
      "running...\r"
     ]
    },
    {
     "ename": "UnidentifiedImageError",
     "evalue": "cannot identify image file <_io.BytesIO object at 0x1964b7ba0>",
     "output_type": "error",
     "traceback": [
      "\u001b[0;31m---------------------------------------------------------------------------\u001b[0m",
      "\u001b[0;31mUnidentifiedImageError\u001b[0m                    Traceback (most recent call last)",
      "Cell \u001b[0;32mIn[2], line 58\u001b[0m\n\u001b[1;32m     55\u001b[0m models \u001b[38;5;241m=\u001b[39m [loaded_10_model, loaded_20_model, loaded_30_model]\n\u001b[1;32m     57\u001b[0m \u001b[38;5;66;03m# Test the models\u001b[39;00m\n\u001b[0;32m---> 58\u001b[0m losses \u001b[38;5;241m=\u001b[39m \u001b[43mtest_models\u001b[49m\u001b[43m(\u001b[49m\u001b[43mmodels\u001b[49m\u001b[43m,\u001b[49m\u001b[43m \u001b[49m\u001b[43mdir_name\u001b[49m\u001b[43m,\u001b[49m\u001b[43m \u001b[49m\u001b[43mnum_images\u001b[49m\u001b[38;5;241;43m=\u001b[39;49m\u001b[38;5;241;43m1000\u001b[39;49m\u001b[43m)\u001b[49m\n\u001b[1;32m     60\u001b[0m \u001b[38;5;66;03m# Print the losses\u001b[39;00m\n\u001b[1;32m     61\u001b[0m \u001b[38;5;28;01mfor\u001b[39;00m i, loss \u001b[38;5;129;01min\u001b[39;00m \u001b[38;5;28menumerate\u001b[39m(losses):\n",
      "Cell \u001b[0;32mIn[2], line 35\u001b[0m, in \u001b[0;36mtest_models\u001b[0;34m(models, img_dir, num_images)\u001b[0m\n\u001b[1;32m     29\u001b[0m random_filename \u001b[38;5;241m=\u001b[39m random\u001b[38;5;241m.\u001b[39mchoice([\n\u001b[1;32m     30\u001b[0m     x \u001b[38;5;28;01mfor\u001b[39;00m x \u001b[38;5;129;01min\u001b[39;00m os\u001b[38;5;241m.\u001b[39mlistdir(img_dir)\n\u001b[1;32m     31\u001b[0m     \u001b[38;5;28;01mif\u001b[39;00m os\u001b[38;5;241m.\u001b[39mpath\u001b[38;5;241m.\u001b[39misfile(os\u001b[38;5;241m.\u001b[39mpath\u001b[38;5;241m.\u001b[39mjoin(img_dir, x))\n\u001b[1;32m     32\u001b[0m ])\n\u001b[1;32m     34\u001b[0m \u001b[38;5;66;03m# Load the image\u001b[39;00m\n\u001b[0;32m---> 35\u001b[0m img \u001b[38;5;241m=\u001b[39m \u001b[43mload_img\u001b[49m\u001b[43m(\u001b[49m\u001b[43mos\u001b[49m\u001b[38;5;241;43m.\u001b[39;49m\u001b[43mpath\u001b[49m\u001b[38;5;241;43m.\u001b[39;49m\u001b[43mjoin\u001b[49m\u001b[43m(\u001b[49m\u001b[43mimg_dir\u001b[49m\u001b[43m,\u001b[49m\u001b[43m \u001b[49m\u001b[43mrandom_filename\u001b[49m\u001b[43m)\u001b[49m\u001b[43m,\u001b[49m\u001b[43m \u001b[49m\u001b[43mtarget_size\u001b[49m\u001b[38;5;241;43m=\u001b[39;49m\u001b[43m(\u001b[49m\u001b[43mIMG_SIZE\u001b[49m\u001b[43m,\u001b[49m\u001b[43m \u001b[49m\u001b[43mIMG_SIZE\u001b[49m\u001b[43m)\u001b[49m\u001b[43m)\u001b[49m\n\u001b[1;32m     37\u001b[0m \u001b[38;5;66;03m# Convert the image to a numpy array and reshape it\u001b[39;00m\n\u001b[1;32m     38\u001b[0m img_array \u001b[38;5;241m=\u001b[39m img_to_array(img)\n",
      "File \u001b[0;32m/usr/local/lib/python3.11/site-packages/keras/utils/image_utils.py:423\u001b[0m, in \u001b[0;36mload_img\u001b[0;34m(path, grayscale, color_mode, target_size, interpolation, keep_aspect_ratio)\u001b[0m\n\u001b[1;32m    421\u001b[0m         path \u001b[38;5;241m=\u001b[39m \u001b[38;5;28mstr\u001b[39m(path\u001b[38;5;241m.\u001b[39mresolve())\n\u001b[1;32m    422\u001b[0m     \u001b[38;5;28;01mwith\u001b[39;00m \u001b[38;5;28mopen\u001b[39m(path, \u001b[38;5;124m\"\u001b[39m\u001b[38;5;124mrb\u001b[39m\u001b[38;5;124m\"\u001b[39m) \u001b[38;5;28;01mas\u001b[39;00m f:\n\u001b[0;32m--> 423\u001b[0m         img \u001b[38;5;241m=\u001b[39m \u001b[43mpil_image\u001b[49m\u001b[38;5;241;43m.\u001b[39;49m\u001b[43mopen\u001b[49m\u001b[43m(\u001b[49m\u001b[43mio\u001b[49m\u001b[38;5;241;43m.\u001b[39;49m\u001b[43mBytesIO\u001b[49m\u001b[43m(\u001b[49m\u001b[43mf\u001b[49m\u001b[38;5;241;43m.\u001b[39;49m\u001b[43mread\u001b[49m\u001b[43m(\u001b[49m\u001b[43m)\u001b[49m\u001b[43m)\u001b[49m\u001b[43m)\u001b[49m\n\u001b[1;32m    424\u001b[0m \u001b[38;5;28;01melse\u001b[39;00m:\n\u001b[1;32m    425\u001b[0m     \u001b[38;5;28;01mraise\u001b[39;00m \u001b[38;5;167;01mTypeError\u001b[39;00m(\n\u001b[1;32m    426\u001b[0m         \u001b[38;5;124mf\u001b[39m\u001b[38;5;124m\"\u001b[39m\u001b[38;5;124mpath should be path-like or io.BytesIO, not \u001b[39m\u001b[38;5;132;01m{\u001b[39;00m\u001b[38;5;28mtype\u001b[39m(path)\u001b[38;5;132;01m}\u001b[39;00m\u001b[38;5;124m\"\u001b[39m\n\u001b[1;32m    427\u001b[0m     )\n",
      "File \u001b[0;32m/usr/local/lib/python3.11/site-packages/PIL/Image.py:3298\u001b[0m, in \u001b[0;36mopen\u001b[0;34m(fp, mode, formats)\u001b[0m\n\u001b[1;32m   3296\u001b[0m     warnings\u001b[38;5;241m.\u001b[39mwarn(message)\n\u001b[1;32m   3297\u001b[0m msg \u001b[38;5;241m=\u001b[39m \u001b[38;5;124m\"\u001b[39m\u001b[38;5;124mcannot identify image file \u001b[39m\u001b[38;5;132;01m%r\u001b[39;00m\u001b[38;5;124m\"\u001b[39m \u001b[38;5;241m%\u001b[39m (filename \u001b[38;5;28;01mif\u001b[39;00m filename \u001b[38;5;28;01melse\u001b[39;00m fp)\n\u001b[0;32m-> 3298\u001b[0m \u001b[38;5;28;01mraise\u001b[39;00m UnidentifiedImageError(msg)\n",
      "\u001b[0;31mUnidentifiedImageError\u001b[0m: cannot identify image file <_io.BytesIO object at 0x1964b7ba0>"
     ]
    }
   ],
   "source": [
    "import os\n",
    "import random\n",
    "import numpy as np\n",
    "import tensorflow as tf\n",
    "from tensorflow.keras.preprocessing.image import load_img, img_to_array\n",
    "\n",
    "# Load the models\n",
    "loaded_10_model = tf.keras.models.load_model('my_10_epoch_model')\n",
    "loaded_20_model = tf.keras.models.load_model('my_20_epoch_model')\n",
    "loaded_30_model = tf.keras.models.load_model('my_30_epoch_model')\n",
    "\n",
    "IMG_SIZE = 422\n",
    "\n",
    "def get_score_from_bin(bin_num):\n",
    "    return bin_num*100 + 260  # Since we started binning from 260\n",
    "\n",
    "def get_score_from_filename(filename):\n",
    "    return int(filename.split('_')[0])  # Assuming score is at the beginning of the filename before '_'\n",
    "\n",
    "def test_models(models, img_dir, num_images=100):\n",
    "    total_losses = []\n",
    "\n",
    "    for model in models:\n",
    "        total_loss = 0\n",
    "\n",
    "        for _ in range(num_images):\n",
    "            print(\"running...\", end=\"\\r\")  # Print running status\n",
    "\n",
    "            random_filename = random.choice([\n",
    "                x for x in os.listdir(img_dir)\n",
    "                if os.path.isfile(os.path.join(img_dir, x))\n",
    "            ])\n",
    "\n",
    "            # Load the image\n",
    "            img = load_img(os.path.join(img_dir, random_filename), target_size=(IMG_SIZE, IMG_SIZE))\n",
    "\n",
    "            # Convert the image to a numpy array and reshape it\n",
    "            img_array = img_to_array(img)\n",
    "            img_array = img_array.reshape(1, IMG_SIZE, IMG_SIZE, 3)\n",
    "\n",
    "            prediction = model.predict(img_array, verbose=0)\n",
    "\n",
    "            pred_score = get_score_from_bin(prediction.argmax())\n",
    "            true_score = get_score_from_filename(random_filename)\n",
    "\n",
    "            loss = abs(pred_score - true_score)\n",
    "            total_loss += loss\n",
    "\n",
    "        avg_loss = total_loss / num_images\n",
    "        total_losses.append(avg_loss)\n",
    "\n",
    "    return total_losses\n",
    "\n",
    "dir_name = 'combined_scored_images'\n",
    "models = [loaded_10_model, loaded_20_model, loaded_30_model]\n",
    "\n",
    "# Test the models\n",
    "losses = test_models(models, dir_name, num_images=1000)\n",
    "\n",
    "# Print the losses\n",
    "for i, loss in enumerate(losses):\n",
    "    print(f\"Average loss for {10*(i+1)} epoch model: {loss}\")\n"
   ]
  },
  {
   "cell_type": "code",
   "execution_count": null,
   "id": "1c0f788b-26ec-4a62-9731-f2d84d58723f",
   "metadata": {},
   "outputs": [],
   "source": [
    "import matplotlib.pyplot as plt\n",
    "\n",
    "# Create bar chart\n",
    "plt.bar(['10 epochs', '20 epochs', '30 epochs'], losses)\n",
    "\n",
    "# Add title and labels\n",
    "plt.title('Average Loss for Different Models')\n",
    "plt.xlabel('Model')\n",
    "plt.ylabel('Average Loss')\n",
    "\n",
    "# Show the plot\n",
    "plt.show()\n"
   ]
  }
 ],
 "metadata": {
  "kernelspec": {
   "display_name": "Python 3.11",
   "language": "python",
   "name": "mykernel"
  },
  "language_info": {
   "codemirror_mode": {
    "name": "ipython",
    "version": 3
   },
   "file_extension": ".py",
   "mimetype": "text/x-python",
   "name": "python",
   "nbconvert_exporter": "python",
   "pygments_lexer": "ipython3",
   "version": "3.11.4"
  }
 },
 "nbformat": 4,
 "nbformat_minor": 5
}
