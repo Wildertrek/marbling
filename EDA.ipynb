{
 "cells": [
  {
   "cell_type": "code",
   "execution_count": null,
   "id": "c3b96740-bf11-4bd9-a75f-ddd64e50ec48",
   "metadata": {},
   "outputs": [],
   "source": [
    "import os\n",
    "import pandas as pd\n",
    "\n",
    "# Load Excel sheet\n",
    "data = pd.read_excel('scores.xlsx')\n",
    "\n",
    "# Get file list from directory\n",
    "files = os.listdir('Images')\n",
    "\n",
    "# Mapping carcassId to average score\n",
    "score_dict = data.set_index('CarcassId')['average'].to_dict()\n",
    "\n",
    "# Rename files\n",
    "for file in files:\n",
    "    # Assume each file name (without extension) is the carcassId\n",
    "    carcassId = os.path.splitext(file)[0]\n",
    "    \n",
    "    # Check if the carcassId is in our score dictionary\n",
    "    if carcassId in score_dict:\n",
    "        score = score_dict[carcassId]\n",
    "        new_name = f\"{carcassId}_{score}.jpg\"\n",
    "        \n",
    "        # Rename the file\n",
    "        os.rename(os.path.join('Images', file), os.path.join('Images', new_name))\n"
   ]
  }
 ],
 "metadata": {
  "kernelspec": {
   "display_name": "Python 3.11",
   "language": "python",
   "name": "mykernel"
  },
  "language_info": {
   "codemirror_mode": {
    "name": "ipython",
    "version": 3
   },
   "file_extension": ".py",
   "mimetype": "text/x-python",
   "name": "python",
   "nbconvert_exporter": "python",
   "pygments_lexer": "ipython3",
   "version": "3.11.3"
  }
 },
 "nbformat": 4,
 "nbformat_minor": 5
}
